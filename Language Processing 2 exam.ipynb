{
 "cells": [
  {
   "cell_type": "markdown",
   "metadata": {
    "collapsed": true
   },
   "source": [
    "# Language Processing 2 exam, Spring 2016\n",
    "\n",
    "Mace Ojala <spt864@alumni.ku.dk>\n",
    "\n",
    "## Introduction\n",
    "\n",
    "Probabilistic context-free grammar (PCFG) experiments are carried on a standard, structurally annotated linguistic corpus, the Penn Treebank. The parser in question is `BitPar`. After engineering the data, tools, and the experiments into an object oriented model, two experiments are run and results presented, with error analysis and discussion of the task.\n",
    "\n",
    "Parsing is a subtask in many natural language processing (NLP) scenarios. Typically it itself is build on top of other tasks such as tokenization and part-of-speech (POS) tagging, and provides input for semantic analysis, machine translation (ML), query parsing and document reprentation in information retrieval (IR), speech recognition and so on. The aim of the parsing task is to figure out a syntactic, or semantic for input sentences, which are typically a list of words, such as sentences from text.\n",
    "\n",
    "Parsing has a long history in the context of linguistics, as well as in computational linguistics, and cognitive sciences too; how do humans comprehend language? Parsing is also important with non-natural languages, such as software compilers and analysis, formal logic and so on.\n",
    "\n",
    "The ubiquitous *statistical turn* has affected parsing, like it has affected most other fields of research too. Some say, that nowadays axiomatic, or rule-based strategies are having a reneissance, to re-introduce human knowledge into models built using machine learning (ML) and other data-driven methods, inference and statistics.\n",
    "\n",
    "This paper looks at grammar-based parsers, and more specifically one particular implementation of a probabilistic extension of CFGs."
   ]
  },
  {
   "cell_type": "markdown",
   "metadata": {},
   "source": [
    "![A Danish forest](https://c1.staticflickr.com/1/176/372081931_16469cd9ae_z.jpg?zz=1 \"Gilleleje forest, in Denmark, image courtecy of Flickr user Pichu, https://www.flickr.com/photos/oa_pichu_sis/372081931\")"
   ]
  },
  {
   "cell_type": "code",
   "execution_count": 1,
   "metadata": {
    "collapsed": true
   },
   "outputs": [],
   "source": [
    "import zipfile\n",
    "import os\n",
    "import re\n",
    "import nltk\n",
    "import scipy\n",
    "import pandas as pd\n",
    "import matplotlib.pyplot as plt\n",
    "%matplotlib inline"
   ]
  },
  {
   "cell_type": "markdown",
   "metadata": {},
   "source": [
    "## Software and data setup\n",
    "\n",
    "The two programs, the PCFG parser *BitPar* and parser-evaluation utility *EVALB* were downloaded from http://cst.dk/jurgen/lp2_ex2016, and built with Make. The former caused no issues, but the latter yielded a dozen or so warnings from the compiler. It is assumed that these warnings will not impact the results of this report.\n",
    "\n",
    "The data was downloaded from http://cst.dk/jurgen/lp2_ex2016. It is stored in one zip file titled `ptb_trees.zip`."
   ]
  },
  {
   "cell_type": "code",
   "execution_count": 2,
   "metadata": {
    "collapsed": false,
    "scrolled": true
   },
   "outputs": [
    {
     "name": "stdout",
     "output_type": "stream",
     "text": [
      "['00.trees', '01.trees', '02.trees', '03.trees', '04.trees', '05.trees', '06.trees', '07.trees', '08.trees', '09.trees', '10.trees', '11.trees', '12.trees', '13.trees', '14.trees', '15.trees', '16.trees', '17.trees', '18.trees', '19.trees', '20.trees', '21.trees', '22.trees', '23.trees', '24.trees']\n",
      "b'(TOP (S (NP-SBJ (NP (NNP Pierre) (NNP Vinken) ) (, ,) (ADJP (NP (CD 61) (NNS years) ) (JJ old) ) (, ,) ) (VP (MD will) (VP (VB join) (NP (DT the) (NN board) ) (PP-CLR (IN as) (NP (DT a) (JJ nonexecutive) (NN director) )) (NP-TMP (NNP Nov.) (CD 29) ))) (. .) )) \\n'\n"
     ]
    }
   ],
   "source": [
    "treedatafile = 'ptb_trees.zip'\n",
    "\n",
    "with zipfile.ZipFile(treedatafile) as zf:\n",
    "    print([member.filename for member in zf.filelist])\n",
    "    \n",
    "with zipfile.ZipFile(treedatafile) as zf:\n",
    "    print(zf.open('00.trees').readline())"
   ]
  },
  {
   "cell_type": "markdown",
   "metadata": {},
   "source": [
    "These 25 member files inside the zipfile are the annotated Wall Street Journal corpus of Penn Treebank. Penn Treebank is a standard, widely used linguistic resource for research, development and educational purposes, and has it's homepage at http://www.cis.upenn.edu/~treebank/. The Penn Treebank is hosted by the University of Pennsylvania, hence the name. Each tree is a sentence from one of the corpuses (WSJ in this case) with the words stored at the leaves, and a human-annotated parse-tree with part-of-speech tags attached. The trees are serialized and stored in the tree bracketing format, one tree per line.\n",
    "\n",
    "In summary, we have a strictly hierarchical data storage situation here; a Zip file contains a number of files, each containing a set of trees, each of which stores a parse tree, with words at the leaves.\n",
    "\n",
    "To get started, the data is modelled. Below, an object model is constructed. `Treebank` is a top object, with `Grammar` and `Lexicon` being useful for representing features of the corpus. Some classes from NLTK (Bird, 2009) are useful here, most notably `nltk.Tree`."
   ]
  },
  {
   "cell_type": "code",
   "execution_count": 3,
   "metadata": {
    "collapsed": false
   },
   "outputs": [],
   "source": [
    "class Treebank:\n",
    "    \"\"\"A forest of groups of Penn treebank trees, read from a Zip file\"\"\"\n",
    "    # The nltk.Tree parses the Penn format,\n",
    "    # use the .fromstring() method\n",
    "    def __init__(self, zipfilename, splits = None, startsymbol = 'TOP'):\n",
    "        import zipfile\n",
    "        \n",
    "        self.zipfilename = zipfilename\n",
    "        self.startsymbol = startsymbol\n",
    "        self.sections = {}\n",
    "        \n",
    "        with zipfile.ZipFile(self.zipfilename) as zipfd:\n",
    "            for member in zipfd.filelist:\n",
    "            #for member in zipfd.filelist[19:]: # for reducing development time\n",
    "                with zipfd.open(member) as file:\n",
    "                    self.sections[member.filename] = []\n",
    "                    self.sections[member.filename] = self.sections[member.filename] = [t for t in self._parsetreefile(file)]\n",
    "#                    for line in file.readlines():\n",
    "#                        string = line.decode('utf-8').strip()\n",
    "                        # self.sections[member.filename].append(nltk.Tree.fromstring(string))\n",
    "                        #self.sections[member.filename].append(nltk.ParentedTree.fromstring(string))                        \n",
    "        if splits:\n",
    "            self.setsplits(splits)\n",
    "            \n",
    "    def _parsetreefile(self, filehandle):\n",
    "        \"\"\"A generator to parse nltk.ParentedTrees from an open filehandle.\"\"\"\n",
    "        for line in filehandle.readlines():\n",
    "            treestring = line.decode()\n",
    "            yield nltk.ParentedTree.fromstring(treestring)\n",
    "        \n",
    "    def setsplits(self, splits):\n",
    "        for split in splits:\n",
    "            for dataset in splits[split]:\n",
    "                assert dataset in self.sections.keys()\n",
    "        self.splits = splits\n",
    "        \n",
    "    def __len__(self):\n",
    "        return len(self.trees())\n",
    "    \n",
    "    def trees(self, split = None):\n",
    "        \"\"\"Return trees for a named split.\"\"\"\n",
    "        # assert split in self.splits # for dev. purposes require splitting\n",
    "        \n",
    "        ts = []\n",
    "        if not split:\n",
    "            for g in self.sections.values():\n",
    "                ts += g\n",
    "        else:\n",
    "            for g in [self.sections[s] for s in self.splits[split]]:\n",
    "                ts += g\n",
    "        return ts\n",
    "    \n",
    "    def grammar(self, split = None):\n",
    "        \"\"\"Return the grammar with frequencies.\"\"\"\n",
    "        return Grammar(self.trees(split))\n",
    "\n",
    "    def lexicon(self, split = None):\n",
    "        \"\"\"Return the lexicon.\"\"\"\n",
    "        return Lexicon(self.trees(split))\n",
    "    \n",
    "    def sentences(self, trees = None):\n",
    "        \"\"\"Return a list of the sentences.\"\"\"\n",
    "        sentences = []\n",
    "        for tree in trees:\n",
    "            sentences.append(tree.leaves())\n",
    "        return sentences\n",
    "            \n",
    "    def write_sentences(self, filename, split):\n",
    "        \"\"\"Write sentences to a file for BitPar.\"\"\"\n",
    "        with open(filename, 'w') as fd:\n",
    "            for sentence in self.sentences(self.trees(split)):\n",
    "                fd.write(\"\\n\".join(sentence) + '\\n' + '\\n')\n",
    "    \n",
    "    def plotsplits(self):\n",
    "        splitfig = plt.figure(figsize=(8, 1))\n",
    "        splitfig.suptitle('Data subset splits', size = 14)\n",
    "        splitfig.subplots_adjust(top=0.5)\n",
    "        ax = splitfig.add_subplot(1, 1, 1, xlabel = 'number of trees')\n",
    "        left = 0\n",
    "        for split in sorted(self.splits, reverse = True):\n",
    "            l = len(self.trees(split))\n",
    "            ax.barh(0, l, left = left, height = 1, color = (1 - (1 / len(split)), 1, 0))\n",
    "            ax.yaxis.set_visible(False)\n",
    "            ax.text(left + 150, 0.5, split + '\\n' + str(l), ha = 'left', va = 'center', size = 8)\n",
    "            left += l"
   ]
  },
  {
   "cell_type": "code",
   "execution_count": 4,
   "metadata": {
    "collapsed": true
   },
   "outputs": [],
   "source": [
    "class Grammar:\n",
    "    def __init__(self, trees):\n",
    "        self.grammar = {}\n",
    "        for tree in trees:\n",
    "            for prod in tree.productions():\n",
    "                if not prod.is_lexical():\n",
    "                    if prod not in self.grammar:\n",
    "                        self.grammar[prod] = 0\n",
    "                    self.grammar[prod] += 1\n",
    "    \n",
    "    def to_bitpar(self):\n",
    "        \"\"\"Return the grammar in BitPar format.\n",
    "        \n",
    "        From BitPar man page:\n",
    "        Each grammar rule starts with its frequency followed\n",
    "        by the parent category (symbol on the left-hand side)\n",
    "        and the child categories (symbols on the right-hand\n",
    "        side). The symbols are separated by whitespace.\n",
    "        \n",
    "        6 NP DT VBN NN NN NN\n",
    "        1 NP DT NN -LRB- NN -RRB- NN\n",
    "        2 ADVP RP RB\n",
    "        41 NP NP PNR PP\n",
    "        \"\"\"\n",
    "        bpgrammar = \"\"\n",
    "        for prod in self.grammar:\n",
    "            prodstr = \" \".join([str(self.grammar[prod]),\n",
    "                                str(prod.lhs()),\n",
    "                                \" \".join([str(r) for r in prod.rhs()]),\n",
    "                                \"\\n\"])\n",
    "            bpgrammar += prodstr\n",
    "        return bpgrammar\n",
    "    \n",
    "    def write(self, filename):\n",
    "        \"\"\"Write the grammar into a file.\"\"\"\n",
    "        with open(filename, 'w') as fd:\n",
    "            fd.write(self.to_bitpar())"
   ]
  },
  {
   "cell_type": "code",
   "execution_count": 5,
   "metadata": {
    "collapsed": true
   },
   "outputs": [],
   "source": [
    "class Lexicon:\n",
    "    def __init__(self, trees):\n",
    "        self.lexicon = {}\n",
    "        for tree in trees:\n",
    "            for prod in tree.productions():\n",
    "                if prod.is_lexical():\n",
    "                    if prod not in self.lexicon:\n",
    "                        self.lexicon[prod] = 0\n",
    "                    self.lexicon[prod] += 1\n",
    "    \n",
    "    def to_bitpar(self):\n",
    "        \"\"\"Return the lexicon in BitPar format.\n",
    "        \n",
    "        From the BitPar man page:\n",
    "        The lexicon file contains one lexicon entry per line.\n",
    "        Each lexicon entry starts with the word (which may\n",
    "        contain blanks) followed by a tab and a sequence of\n",
    "        part-of-speech tags.\n",
    "        \n",
    "        Massicotte\\tNNP 1\n",
    "        revised\\tVBD 7\n",
    "        \"\"\"\n",
    "        bplexicon = \"\"\n",
    "        for prod in self.lexicon:\n",
    "            prodstr = prod.rhs()[0] + \"\\t\" + \" \".join([str(prod.lhs()),\n",
    "                               str(self.lexicon[prod]),\n",
    "                               \"\\n\"])\n",
    "            bplexicon += prodstr\n",
    "        return bplexicon\n",
    "    \n",
    "    def write(self, filename):\n",
    "        \"\"\"Write the lexicon into a file.\"\"\"\n",
    "        with open(filename, 'w') as fd:\n",
    "            fd.write(self.to_bitpar())"
   ]
  },
  {
   "cell_type": "markdown",
   "metadata": {},
   "source": [
    "Now, let's populate the model with data."
   ]
  },
  {
   "cell_type": "code",
   "execution_count": 7,
   "metadata": {
    "collapsed": false
   },
   "outputs": [
    {
     "name": "stdout",
     "output_type": "stream",
     "text": [
      "CPU times: user 43.3 s, sys: 612 ms, total: 43.9 s\n",
      "Wall time: 44.5 s\n"
     ]
    }
   ],
   "source": [
    "%time ptb = Treebank(treedatafile)"
   ]
  },
  {
   "cell_type": "markdown",
   "metadata": {},
   "source": [
    "An arbitrarily selected, single examples tree looks like this."
   ]
  },
  {
   "cell_type": "code",
   "execution_count": 20,
   "metadata": {
    "collapsed": false
   },
   "outputs": [
    {
     "name": "stdout",
     "output_type": "stream",
     "text": [
      "(TOP\n",
      "  (S\n",
      "    (NP-SBJ-1\n",
      "      (NP (NML (DT The) (NN economy)) (POS 's))\n",
      "      (NN temperature))\n",
      "    (VP\n",
      "      (MD will)\n",
      "      (VP\n",
      "        (VB be)\n",
      "        (VP\n",
      "          (VBN taken)\n",
      "          (NP (-NONE- *-1))\n",
      "          (PP-CLR\n",
      "            (IN from)\n",
      "            (NP (JJ several) (NN vantage) (NNS points)))\n",
      "          (NP-TMP (DT this) (NN week))\n",
      "          (, ,)\n",
      "          (PP\n",
      "            (IN with)\n",
      "            (NP\n",
      "              (NP (NNS readings))\n",
      "              (PP\n",
      "                (IN on)\n",
      "                (NP\n",
      "                  (NP (NN trade))\n",
      "                  (, ,)\n",
      "                  (NP (NN output))\n",
      "                  (, ,)\n",
      "                  (NP (NN housing))\n",
      "                  (CC and)\n",
      "                  (NP (NN inflation)))))))))\n",
      "    (. .)))\n"
     ]
    }
   ],
   "source": [
    "print(ptb.trees()[0])"
   ]
  },
  {
   "cell_type": "markdown",
   "metadata": {},
   "source": [
    "To get an intuition of the tree data at the aggregate level, let's plot histograms of tree heights and sentence lenghts."
   ]
  },
  {
   "cell_type": "code",
   "execution_count": 21,
   "metadata": {
    "collapsed": false
   },
   "outputs": [
    {
     "name": "stdout",
     "output_type": "stream",
     "text": [
      "Mean tree height 12.22 , σ 3.96\n",
      "Mean sentence length 25.6 , σ 12.15\n"
     ]
    },
    {
     "data": {
      "image/png": "[encoded data removed]",
      "text/plain": [
       "<matplotlib.figure.Figure at 0x7f1257b75828>"
      ]
     },
     "metadata": {},
     "output_type": "display_data"
    }
   ],
   "source": [
    "print('Mean tree height', round(scipy.mean([t.height() for t in ptb.trees()]), 2), ', σ', round(scipy.std([t.height() for t in ptb.trees()]), 2))\n",
    "print('Mean sentence length', round(scipy.mean([len(t.leaves()) for t in ptb.trees()]), 2), ', σ', round(scipy.std([len(t.leaves()) for t in ptb.trees()]), 2))\n",
    "\n",
    "ptbhistfig = plt.figure(figsize=(8, 3))\n",
    "ptbhistfig.subplots_adjust(top = 0.8)\n",
    "ptbhistfig.suptitle('Distibution of data mass', size = 14)\n",
    "subplot = plt.subplot(121)\n",
    "subplot.set_xlabel('Tree height')\n",
    "subplot.set_ylabel('Trees')\n",
    "subplot.set_ylim(0, 8000)\n",
    "subplot.hist([t.height() for t in ptb.trees()], bins = range(0, 35), color = 'lightgreen')\n",
    "subplot = plt.subplot(122)\n",
    "subplot.set_xlabel('Sentence lenght')\n",
    "subplot.set_ylabel('Trees')\n",
    "subplot.set_ylim(0, 8000)\n",
    "subplot.hist([len(t.leaves()) for t in ptb.trees()], bins = range(0, 100, 5), color = 'pink')\n",
    "ptbhistfig.show(warn = False)"
   ]
  },
  {
   "cell_type": "markdown",
   "metadata": {},
   "source": [
    "Next, let's briefly look at how these two features of the data interact. We calculate the covariance matrix, and do a scatterplot."
   ]
  },
  {
   "cell_type": "code",
   "execution_count": 15,
   "metadata": {
    "collapsed": false
   },
   "outputs": [
    {
     "name": "stdout",
     "output_type": "stream",
     "text": [
      "[[  15.68295191   34.43193708]\n",
      " [  34.43193708  147.71454996]]\n"
     ]
    },
    {
     "data": {
      "text/plain": [
       "<matplotlib.collections.PathCollection at 0x7fdff006feb8>"
      ]
     },
     "execution_count": 15,
     "metadata": {},
     "output_type": "execute_result"
    },
    {
     "data": {
      "image/png": "[encoded data removed]",
      "text/plain": [
       "<matplotlib.figure.Figure at 0x7fdff0d95400>"
      ]
     },
     "metadata": {},
     "output_type": "display_data"
    }
   ],
   "source": [
    "print(scipy.cov([t.height() for t in ptb.trees()], [len(t.leaves()) for t in ptb.trees()]))\n",
    "plt.title('Tree heights vs. sentence lenghts')\n",
    "plt.xlabel('Height')\n",
    "plt.ylabel('Length')\n",
    "plt.xlim(0, 40)\n",
    "plt.ylim(0, 300)\n",
    "plt.scatter([t.height() for t in ptb.trees()], [len(t.leaves()) for t in ptb.trees()], marker = '.', color = 'green')"
   ]
  },
  {
   "cell_type": "markdown",
   "metadata": {},
   "source": [
    "Let's look at that long, relatively shallow outlier."
   ]
  },
  {
   "cell_type": "code",
   "execution_count": 502,
   "metadata": {
    "collapsed": false
   },
   "outputs": [
    {
     "name": "stdout",
     "output_type": "stream",
     "text": [
      "(TOP\n",
      "  (S\n",
      "    (NP-SBJ-3 (NP (DT The) (NN following)) (FRAG (-NONE- *ICH*-4)))\n",
      "    (VP\n",
      "      (VP\n",
      "        (VBD were)\n",
      "        (VP\n",
      "          (VP (VBN barred) (NP (-NONE- *-3)))\n",
      "          (CC or)\n",
      "          (VP\n",
      "            (PRN\n",
      "              (, ,)\n",
      "              (SBAR-LOC\n",
      "                (WHADVP-2 (WRB where))\n",
      "                (S\n",
      "                  (NP-SBJ-1 (-NONE- *))\n",
      "                  (VP\n",
      "                    (VBN noted)\n",
      "                    (NP (-NONE- *-1))\n",
      "                    (ADVP-LOC (-NONE- *T*-2)))))\n",
      "              (, ,))\n",
      "            (VBN suspended)\n",
      "            (NP (-NONE- *-3)))))\n",
      "      (CC and)\n",
      "      (VP\n",
      "        (VBD consented)\n",
      "        (PP-CLR (TO to) (NP (NNS findings)))\n",
      "        (PP\n",
      "          (IN without)\n",
      "          (S-NOM\n",
      "            (NP-SBJ (-NONE- *-3))\n",
      "            (VP\n",
      "              (VBG admitting)\n",
      "              (CC or)\n",
      "              (VBG denying)\n",
      "              (NP (NN wrongdoing)))))))\n",
      "    (: :)\n",
      "    (FRAG-4\n",
      "      (FRAG\n",
      "        (NP-SBJ\n",
      "          (NP (NNP Edward) (NNP L.) (NNP Cole))\n",
      "          (, ,)\n",
      "          (NP-LOC (NP (NNP Jackson)) (, ,) (NP (NNP Miss.)))\n",
      "          (, ,))\n",
      "        (NP (ADJP ($ $) (CD 10,000) (-NONE- *U*)) (NN fine)))\n",
      "      (: ;)\n",
      "      (FRAG\n",
      "        (NP-SBJ\n",
      "          (NP (NNP Rita) (NNP Rae) (NNP Cross))\n",
      "          (, ,)\n",
      "          (NP-LOC (NNP Denver))\n",
      "          (, ,))\n",
      "        (NP\n",
      "          (NP (ADJP ($ $) (CD 2,500) (-NONE- *U*)) (NN fine))\n",
      "          (CC and)\n",
      "          (NP (JJ 30-day) (NN suspension))))\n",
      "      (: ;)\n",
      "      (FRAG\n",
      "        (NP-SBJ\n",
      "          (NP (NNP Thomas) (NNP Richard) (NNP Meinders))\n",
      "          (, ,)\n",
      "          (NP-LOC\n",
      "            (NP (NNP Colorado) (NNP Springs))\n",
      "            (, ,)\n",
      "            (NP (NNP Colo.)))\n",
      "          (, ,))\n",
      "        (NP\n",
      "          (NP (ADJP ($ $) (CD 2,000) (-NONE- *U*)) (NN fine))\n",
      "          (, ,)\n",
      "          (NP (JJ five-day) (NN suspension))\n",
      "          (CC and)\n",
      "          (NP\n",
      "            (NP (JJ eight-month) (NN suspension))\n",
      "            (PP (IN as) (NP (DT a) (NN principal))))))\n",
      "      (: ;)\n",
      "      (FRAG\n",
      "        (NP-SBJ\n",
      "          (NP (NNP Ronald) (NNP A.) (NNP Cutrer))\n",
      "          (, ,)\n",
      "          (NP-LOC (NP (NNP Baton) (NNP Rouge)) (, ,) (NP (NNP La.)))\n",
      "          (, ,))\n",
      "        (NP\n",
      "          (NP (ADJP ($ $) (CD 15,000) (-NONE- *U*)) (NN fine))\n",
      "          (CC and)\n",
      "          (NP (JJ one-month) (NN suspension))))\n",
      "      (: ;)\n",
      "      (FRAG\n",
      "        (NP-SBJ\n",
      "          (NP (NNP Karl) (NNP Grant) (NNP Hale))\n",
      "          (, ,)\n",
      "          (NP-LOC (NP (NNP Midvale)) (, ,) (NP (NNP Utah)))\n",
      "          (, ,))\n",
      "        (NP (ADJP ($ $) (CD 15,000) (-NONE- *U*)) (NN fine)))\n",
      "      (: ;)\n",
      "      (FRAG\n",
      "        (NP-SBJ\n",
      "          (NP (NNP Clinton) (NNP P.) (NNP Hayne))\n",
      "          (, ,)\n",
      "          (NP-LOC (NNP New) (NNP Orleans))\n",
      "          (, ,))\n",
      "        (NP\n",
      "          (NP (ADJP ($ $) (CD 7,500) (-NONE- *U*)) (NN fine))\n",
      "          (CC and)\n",
      "          (NP (JJ one-week) (NN suspension))))\n",
      "      (: ;)\n",
      "      (FRAG\n",
      "        (NP-SBJ\n",
      "          (NP (NNP Richard) (NNP M.) (NNP Kane))\n",
      "          (, ,)\n",
      "          (NP-LOC\n",
      "            (NP (NNP Coconut) (NNP Creek))\n",
      "            (, ,)\n",
      "            (NP (NNP Fla.))\n",
      "            (, ,)))\n",
      "        (NP (ADJP ($ $) (CD 250,000) (-NONE- *U*)) (NN fine)))\n",
      "      (: ;)\n",
      "      (FRAG\n",
      "        (NP-SBJ\n",
      "          (NP (NNP John) (NNP B.) (NNP Merrick))\n",
      "          (, ,)\n",
      "          (NP-LOC (NP (NNP Aurora)) (, ,) (NP (NNP Colo.)))\n",
      "          (, ,))\n",
      "        (NP\n",
      "          (NP (ADJP ($ $) (CD 1,000) (-NONE- *U*)) (NN fine))\n",
      "          (CC and)\n",
      "          (NP (JJ 10-day) (NN suspension))))\n",
      "      (: ;)\n",
      "      (FRAG\n",
      "        (NP-SBJ\n",
      "          (NP (NNP John) (NNP P.) (NNP Miller))\n",
      "          (, ,)\n",
      "          (NP-LOC (NNP Baton) (NNP Rouge))\n",
      "          (, ,))\n",
      "        (NP\n",
      "          (NP (ADJP ($ $) (CD 2,000) (-NONE- *U*)) (NN fine))\n",
      "          (CC and)\n",
      "          (NP (JJ two-week) (NN suspension))))\n",
      "      (: ;)\n",
      "      (FRAG\n",
      "        (NP-SBJ\n",
      "          (NP (NNP Randolph) (NNP K.) (NNP Pace))\n",
      "          (, ,)\n",
      "          (NP-LOC (NNP New) (NNP York))\n",
      "          (, ,))\n",
      "        (NP\n",
      "          (NP (ADJP ($ $) (CD 10,000) (-NONE- *U*)) (NN fine))\n",
      "          (CC and)\n",
      "          (NP (JJ 90-day) (NN suspension))))\n",
      "      (: ;)\n",
      "      (FRAG\n",
      "        (NP-SBJ\n",
      "          (NP (NNP Brian) (NNP D.) (NNP Pitcher))\n",
      "          (, ,)\n",
      "          (NP-LOC\n",
      "            (NP (NNP New) (NNP Providence))\n",
      "            (, ,)\n",
      "            (NP (NNP N.J.)))\n",
      "          (, ,))\n",
      "        (NP (ADJP ($ $) (CD 30,000) (-NONE- *U*)) (NN fine)))\n",
      "      (: ;)\n",
      "      (FRAG\n",
      "        (NP-SBJ\n",
      "          (NP (NNP Wayne) (NNP A.) (NNP Russo))\n",
      "          (, ,)\n",
      "          (NP-LOC (NP (NNP Bridgeville)) (, ,) (NP (NNP Pa.)))\n",
      "          (, ,))\n",
      "        (NP\n",
      "          (NP (ADJP ($ $) (CD 4,000) (-NONE- *U*)) (NN fine))\n",
      "          (CC and)\n",
      "          (NP (JJ 15-day) (NN suspension))))\n",
      "      (: ;)\n",
      "      (FRAG\n",
      "        (NP-SBJ\n",
      "          (NP (NNP Orville) (NNP Leroy) (NNP Sandberg))\n",
      "          (, ,)\n",
      "          (NP-LOC (NP (NNP Aurora)) (, ,) (NP (NNP Colo.)))\n",
      "          (, ,))\n",
      "        (NP\n",
      "          (NP (ADJP ($ $) (CD 3,500) (-NONE- *U*)) (NN fine))\n",
      "          (CC and)\n",
      "          (NP (JJ 10-day) (NN suspension))))\n",
      "      (: ;)\n",
      "      (FRAG\n",
      "        (NP-SBJ\n",
      "          (NP (NNP Richard) (NNP T.) (NNP Marchese))\n",
      "          (, ,)\n",
      "          (NP-LOC (NP (NNP Las) (NNP Vegas)) (, ,) (NP (NNP Nev.)))\n",
      "          (, ,))\n",
      "        (NP\n",
      "          (NP ($ $) (CD 5,000) (-NONE- *U*))\n",
      "          (CC and)\n",
      "          (NP (JJ one-year) (NN suspension))))\n",
      "      (: ;)\n",
      "      (FRAG\n",
      "        (NP-SBJ\n",
      "          (NP (NNP Eric) (NNP G.) (NNP Monchecourt))\n",
      "          (, ,)\n",
      "          (NP-LOC (NNP Las) (NNP Vegas)))\n",
      "        (, ,)\n",
      "        (NP\n",
      "          (NP ($ $) (CD 5,000) (-NONE- *U*))\n",
      "          (CC and)\n",
      "          (NP (JJ one-year) (NN suspension))))\n",
      "      (: ;)\n",
      "      (CC and)\n",
      "      (FRAG\n",
      "        (NP-SBJ\n",
      "          (NP (NNP Robert) (NNP Gerhard) (NNP Smith))\n",
      "          (, ,)\n",
      "          (NP-LOC (NP (NNP Carson) (NNP City)) (, ,) (NP (NNP Nev.)))\n",
      "          (, ,))\n",
      "        (NP (JJ two-year) (NN suspension))))\n",
      "    (. .)))\n"
     ]
    }
   ],
   "source": [
    "print(max(ptb.trees(), key = lambda l: len(l.leaves())))"
   ]
  },
  {
   "cell_type": "markdown",
   "metadata": {},
   "source": [
    "What a silly tree, looks like some sort of a table. Oh well."
   ]
  },
  {
   "cell_type": "markdown",
   "metadata": {},
   "source": [
    "## Data splitting\n",
    "\n",
    "In machine learning tasks, we want to split the data to training, testing, and in this case also into development sets. In Machine Learning in general, many strategies for data splitting exist. Charniak (2000), as well as Ringger et al., (2004) claim that the following split of the Wall Street Journal (WSJ) sections of Penn Treebank is the accepted standard in the parsing community:\n",
    "\n",
    "* 2-21 training set\n",
    "* 23 test set\n",
    "* 24 development test\n",
    "\n",
    "Let's apply this conventional splitting to the data we have loaded."
   ]
  },
  {
   "cell_type": "code",
   "execution_count": 8,
   "metadata": {
    "collapsed": false
   },
   "outputs": [
    {
     "data": {
      "image/png": "[encoded data removed]",
      "text/plain": [
       "<matplotlib.figure.Figure at 0x7fdff0ea4940>"
      ]
     },
     "metadata": {},
     "output_type": "display_data"
    }
   ],
   "source": [
    "pennsplits = {'training': ['02.trees', '03.trees', '04.trees',\n",
    "                           '05.trees', '06.trees', '07.trees',\n",
    "                           '08.trees', '09.trees', '10.trees',\n",
    "                           '11.trees', '12.trees', '13.trees',\n",
    "                           '14.trees', '15.trees', '16.trees',\n",
    "                           '17.trees', '18.trees', '19.trees',\n",
    "                           '20.trees', '21.trees'],\n",
    "              'test': ['23.trees'],\n",
    "              'dev': ['24.trees']}\n",
    "ptb.setsplits(pennsplits)\n",
    "ptb.plotsplits()"
   ]
  },
  {
   "cell_type": "markdown",
   "metadata": {},
   "source": [
    "The training set is only used to extract the languages model. The test set is placed aside until development work is done, and remains untouched until the experiments are conducted. All development work, including possible parameter tuning etc. is done on the dev set, to keep the test set pristine. The development set \"stands in\" for the test set, and by being small enough, also helps to keep the computational complexity down during design and development.\n",
    "\n",
    "Developing using the test set will easily lead to over-fitting, and to results that do not generalize. Therefore it is always kept aside and only used for the experiments. The dev set is excluded from the experiments.\n",
    "\n",
    "The dev set could also be constructed by sampling from the training and tests sets."
   ]
  },
  {
   "cell_type": "markdown",
   "metadata": {},
   "source": [
    "## Training\n",
    "\n",
    "Next, extract the grammar and the lexicon from the training set. These two serve as a representation, a model of the language. A *probabilistic context-tree grammar* (PCFG) is defined as 5-tuple $G = N, T, R, S, P$, where $N$ is the set of non-terminal symbols, $T$ the set of terminal symbols, ie. the lexicon, $R$ the set of production rules, $S \\in N$ the start symbol, and $P$ the probabilities of the production rules.\n",
    "\n",
    "With the `BinPar` parser, the production rules $R$ are separated into two subsets, the grammar rules $P_g$ and the lexical rules $P_l$. The first of these yield non-terminals, the latter terminals. Formally, $P_g = \\{ A \\rightarrow B \\mid A \\in N \\textrm{ and } B = r_1, r_2 \\ldots r_n \\textrm{ where } r_1 \\ldots r_n \\in N\\}$, and $P_l = \\{ A \\rightarrow s \\mid A \\in N \\textrm{ and } s \\in T\\}$.\n",
    "\n",
    "The `BinPar` parser itself calculates the production probabilities $P$ from counts in the grammar and lexical files."
   ]
  },
  {
   "cell_type": "raw",
   "metadata": {
    "collapsed": true
   },
   "source": [
    "class LanguageModel:\n",
    "    def __init__(self, treebank, trainsplit = 'training', grammarfile = 'grammar-train', lexiconfile = 'lexicon-train'):\n",
    "        self.treebank = treebank\n",
    "        self.trainsplit = trainsplit\n",
    "        self.grammarfile = grammarfile\n",
    "        self.lexiconfile = lexiconfile\n",
    "    \n",
    "    def train(self):\n",
    "        \"\"\"Train the model, by extracting the ruleset to files.\"\"\"\n",
    "        self.treebank.grammar(split = self.trainsplit).write(self.grammarfile)\n",
    "        self.treebank.lexicon(split = self.trainsplit).write(self.lexiconfile)"
   ]
  },
  {
   "cell_type": "code",
   "execution_count": 10,
   "metadata": {
    "collapsed": false
   },
   "outputs": [],
   "source": [
    "lm = LanguageModel(ptb)\n",
    "%time lm.train()"
   ]
  },
  {
   "cell_type": "markdown",
   "metadata": {},
   "source": [
    "Let's look at some arbitrary grammar rules from the file and check that they look correct, and check how many of them were extracted and written. Also, a few top training rules are listed, with their frequencies."
   ]
  },
  {
   "cell_type": "code",
   "execution_count": 49,
   "metadata": {
    "collapsed": false
   },
   "outputs": [
    {
     "name": "stdout",
     "output_type": "stream",
     "text": [
      "1 VP VBG NP NP-TMP , PP-TMP\n",
      "15 PP-TMP-PRD IN NP\n",
      "1 VP VBN NP PP-CLR PP PP-MNR\n",
      "1 S NP-SBJ-16 VP .\n",
      "1 VP VBN NP ADVP-MNR ADVP-LOC-TMP\n",
      "Number of training grammar rules written 30653\n"
     ]
    },
    {
     "data": {
      "text/plain": [
       "[(PP -> IN NP, 39023),\n",
       " (TOP -> S, 33710),\n",
       " (S -> NP-SBJ VP, 32650),\n",
       " (NP-SBJ -> -NONE-, 21734),\n",
       " (NP -> NP PP, 20966),\n",
       " (NP -> DT NN, 19841),\n",
       " (S -> NP-SBJ VP ., 13351),\n",
       " (VP -> TO VP, 12448),\n",
       " (PP-LOC -> IN NP, 11357),\n",
       " (NP-SBJ -> PRP, 11022)]"
      ]
     },
     "execution_count": 49,
     "metadata": {},
     "output_type": "execute_result"
    }
   ],
   "source": [
    "with open(lm.grammarfile) as fd:\n",
    "    [print(line.strip()) for line in fd.readlines()[50:55]]\n",
    "    fd.seek(0)\n",
    "    print('Number of training grammar rules written', len(fd.readlines()))\n",
    "\n",
    "# Functional style is far from computationally efficient, when used like this\n",
    "#[(rule, ptb.grammar('training').grammar[rule]) for rule in sorted(ptb.grammar('training').grammar, key = ptb.grammar('training').grammar.get, reverse = True)[0:10]]\n",
    "g = ptb.grammar('training').grammar\n",
    "[(rule, g[rule]) for rule in sorted(g, key = g.get, reverse = True)[0:10]]"
   ]
  },
  {
   "cell_type": "markdown",
   "metadata": {},
   "source": [
    "Let's check some arbitrary lexical rules too, and see how many got extracted and written into the file. According to *Zipf's Law*, the logarithmic ranking of the words in the lexicon should be linearly inversily proportional to their logarithmic frequency; after the few most common classes the frequency drops rapidly, and a long tail of hapaxes lingers on. This is a well-known property of natural languages."
   ]
  },
  {
   "cell_type": "code",
   "execution_count": 29,
   "metadata": {
    "collapsed": false
   },
   "outputs": [
    {
     "name": "stdout",
     "output_type": "stream",
     "text": [
      "Messrs.\tNNPS 10\n",
      "12,345\tCD 1\n",
      "nationalization\tNN 2\n",
      "scarlet\tJJ 1\n",
      "Butter-Nut\tNNP 1\n",
      "Number of lexical rules written 51192\n"
     ]
    },
    {
     "name": "stderr",
     "output_type": "stream",
     "text": [
      "/usr/lib/python3/dist-packages/numpy/lib/scimath.py:262: RuntimeWarning: divide by zero encountered in log\n",
      "  return nx.log(x)\n"
     ]
    },
    {
     "data": {
      "image/png": "[encoded data removed]",
      "text/plain": [
       "<matplotlib.figure.Figure at 0x7f128ef97be0>"
      ]
     },
     "metadata": {},
     "output_type": "display_data"
    }
   ],
   "source": [
    "with open(lm.lexiconfile) as fd:\n",
    "    [print(line.strip()) for line in fd.readlines()[50:55]]\n",
    "    fd.seek(0)\n",
    "    print('Number of lexical rules written', len(fd.readlines()))\n",
    "\n",
    "with open(lm.lexiconfile) as fd:\n",
    "    lrules = {}\n",
    "    for line in fd.readlines():\n",
    "        word, pos, count = line.split()\n",
    "        count = int(count)\n",
    "        if word not in lrules:\n",
    "            lrules[word] = 0\n",
    "        lrules[word] += count\n",
    "    plt.figure(figsize=(6,6))\n",
    "    plt.title('Zipf\\'s law', size = 14)\n",
    "    plt.xlabel('Word rank (log)')\n",
    "    plt.ylabel('Frequency (log)')\n",
    "    plt.xlim(0, 12)\n",
    "    plt.ylim(0, 12)\n",
    "    plt.grid(True)\n",
    "    plt.scatter(scipy.log(range(0, len(lrules))), scipy.log([lrules[r] for r in sorted(lrules, key = lrules.get, reverse = True)]), marker = '.', color = 'pink')"
   ]
  },
  {
   "cell_type": "markdown",
   "metadata": {},
   "source": [
    "Sentences of the development set are extracted into a file. This file will then be parsed using the grammar and lexicon acquired from the training set."
   ]
  },
  {
   "cell_type": "code",
   "execution_count": 8,
   "metadata": {
    "collapsed": true
   },
   "outputs": [],
   "source": [
    "ptb.write_sentences('sentences-dev', 'dev')"
   ]
  },
  {
   "cell_type": "markdown",
   "metadata": {},
   "source": [
    "## About PCFG\n",
    "\n",
    "A probabilistic context free grammar parser is a program, which constructs a parse structure, given a grammar $G$, and an input sentence $s$. Using the definition of PCFG above, $s$ is a list of words $s = w_1, w_2, \\ldots w_n$ such that each $w \\in T$, ie. each word of the sentence is in the lexicon of the language, and $S \\Rightarrow s$, $s$ is derivable from the start symbol $S$.\n",
    "\n",
    "Generally speaking, context-free grammars are a way to describe languages. CFGs describe the context-free languages, a superset of the regular languages. The class of theoretical computing machines known as the *push-down automata* (PDA) recognize the context-free languages (Sipser, 2013). PDA are like regular automata, but with have a simple, but infite memory device: the stack. Several kinds of machines exist, most importantly recognizers, parsers and transducers. Of these, deterministic PDA machines, and the related deterministic context-free languages and grammars can produce one, or possibly many parses for each input, based on $G$. These have been influential for the NLP domain, and have nice theoretical properties. Disambiguation strategies between multiple parses depend on what is suitable for a given task. Probabilistic CFG (PCFG) are an extension of CFGs, and each rule has a probability in $P$. These can be used for disambiguation between multiple parses.\n",
    "\n",
    "CFGs describe relationships between terms in the language. In the domain of natural language processing the terms are typically the part-of-speech tags and the words of the language in question. Depending on how one looks at it, the grammar rules themselves have have a strong independence assumption in straight-forward CFGs.\n",
    "\n",
    "Several algorithms for CFG parsing exist, CKY and Earley being the classics (Jurafsky and Martin, 1999). For the purposes of this paper, the Cocke, Kasami, Younger (CKY, aka CYK) is the most interesting, since the `BinPar` is an implementation of it. CKY is a dynamic programming algorithm, which means that as it parses the input sentence bottom-up, left-to-right, it builds a chart of gradually longer and longer constituents it has already constructed. This makes CKY efficient in terms of computing complexity, and it performs the complex task of parsing in $O(n^3)$. Upon completion, a tree or a number of trees are retrieved from the chart, and returned.\n",
    "\n",
    "`BinPar`, in depth described in Schmid (2004), uses a bit martix to store the parses, making it suitable for sparse data and highly ambiguous grammar. `BinPar` can implements the Viterbi algorithm and can optionally use that to retrieve the single, most probable parse solution from the chart. This method is used in this paper."
   ]
  },
  {
   "cell_type": "markdown",
   "metadata": {},
   "source": [
    "An object reprentation of the `BinPar` parser is defined."
   ]
  },
  {
   "cell_type": "code",
   "execution_count": 55,
   "metadata": {
    "collapsed": false
   },
   "outputs": [],
   "source": [
    "class BinPar:\n",
    "    \"\"\"A little wrapper class around BinPar.\"\"\"\n",
    "    def __init__(self, binpath):\n",
    "        \"\"\"\n",
    "        @param binpath: str to binary path\n",
    "        @param args: str of arguments\"\"\"\n",
    "        assert os.path.exists(binpath)\n",
    "        self.binpath = binpath\n",
    "        \n",
    "    def parse(self, languagemodel, sentencesfile, outfile, args = None):\n",
    "        \"\"\"Run BinPar. Returns a filename.\"\"\"\n",
    "        assert os.path.exists(languagemodel.grammarfile)\n",
    "        assert os.path.exists(languagemodel.lexiconfile)\n",
    "        assert os.path.exists(sentencesfile)\n",
    "        \n",
    "        cmdline = \" \".join([\n",
    "            self.binpath,\n",
    "            args,\n",
    "            languagemodel.grammarfile,\n",
    "            languagemodel.lexiconfile,\n",
    "            sentencesfile,\n",
    "            outfile])\n",
    "        print(cmdline)\n",
    "        exitcode = os.system(cmdline)\n",
    "        if exitcode != 0:\n",
    "            # should throw an exception\n",
    "            print(self.binpath, 'exited with code', exitcode)\n",
    "            return None\n",
    "        else:\n",
    "            return self.postprocess(outfile, outfile + \"_pp\")\n",
    "        \n",
    "    def postprocess(self, bitparparsesfile, postprocessedparsesfile):\n",
    "        \"\"\"Postprocess BinPar parses.\"\"\"\n",
    "        assert os.path.exists(bitparparsesfile)\n",
    "        \n",
    "        with open(bitparparsesfile, 'r') as infd:\n",
    "            with open(postprocessedparsesfile, 'w') as outfd:\n",
    "                for line in infd:\n",
    "                    if line.startswith(\"No parse for\"):\n",
    "                        line = '(TOP nil)\\n'\n",
    "                    else:\n",
    "                        line = re.sub(r'\\\\', '', line)\n",
    "                        line = re.sub(r'/', '\\/', line)\n",
    "                    outfd.write(line)\n",
    "        return postprocessedparsesfile"
   ]
  },
  {
   "cell_type": "markdown",
   "metadata": {},
   "source": [
    "An object representation of the EVALB software, which calculates PARSEVAL metrics."
   ]
  },
  {
   "cell_type": "code",
   "execution_count": 12,
   "metadata": {
    "collapsed": false
   },
   "outputs": [],
   "source": [
    "class Evalb:\n",
    "    \"\"\"A little wrapper class around EVALB.\"\"\"\n",
    "    def __init__(self, binpath):\n",
    "        self.binpath = binpath\n",
    "\n",
    "    def evaluate(self, treebank, split, parseroutputfile, args = ''):\n",
    "        assert os.path.exists(parseroutputfile)\n",
    "        assert split in treebank.splits.keys()\n",
    "        \n",
    "        goldtrees = 'goldtrees'\n",
    "        with open(goldtrees, 'w') as fd:\n",
    "            for tree in treebank.trees(split):\n",
    "                fd.write(str(tree))\n",
    "\n",
    "        cmdline = \" \".join([\n",
    "                self.binpath,\n",
    "                args,\n",
    "                treebank.splits[split][0],\n",
    "                parseroutputfile,\n",
    "                \">\" + 'eval'\n",
    "            ])\n",
    "        print(cmdline)\n",
    "        exitcode = os.system(cmdline)\n",
    "        if exitcode != 0:\n",
    "            print('evalb exited with', exitcode)\n",
    "        \n",
    "    def parseresults(self, evalbfile):\n",
    "        \"\"\"Return EVALB results, and summary as a Pandas structures.\"\"\"\n",
    "        assert os.path.exists(evalbfile)\n",
    "        \n",
    "        columns = ['id', 'len', 'stat', 'recall', 'precision', 'matchedbracket', 'bracket_gold', 'bracket_test', 'cross_bracket', 'cross_words', 'correcttags', 'tagaccuracy']\n",
    "        evaltrees = pd.DataFrame(dtype = 'float64', columns = columns)\n",
    "        \n",
    "        with open(evalbfile) as fd:\n",
    "            line = fd.readline()\n",
    "            # skip over headers\n",
    "            while not line.startswith('===='):\n",
    "                line = fd.readline()\n",
    "            line = fd.readline()\n",
    "            # get the individual tree results\n",
    "            while not line.startswith('===='):\n",
    "                s = pd.Series(pd.to_numeric(line.split()), index = columns)\n",
    "                evaltrees = evaltrees.append(s, ignore_index = True)\n",
    "                line = fd.readline()\n",
    "            while not line.startswith('-- All'):\n",
    "                line = fd.readline()\n",
    "            line = fd.readline()\n",
    "\n",
    "            # get the summary\n",
    "            summaryvalues = []\n",
    "            while not line.isspace():\n",
    "                summaryvalues.append(line.split('=')[1].strip())\n",
    "                line = fd.readline()\n",
    "            #evalsummary = pd.Series(pd.to_numeric(summaryvalues), index = ['no_sent', 'no_errsent', 'no_skipsent', 'no_validsent', 'bracrecall', 'bracprecision', 'bracfmeas', 'completematch', 'avgcrossing', 'no_crossing', 'twoorlesscrossing', 'taggingaccuracy'])\n",
    "            evalsummary = {'no_sent': int(summaryvalues[0]),\n",
    "                           'no_errsent': int(summaryvalues[1]),\n",
    "                           'no_skipsent': int(summaryvalues[2]),\n",
    "                           'no_validsent': int(summaryvalues[3]),\n",
    "                           'bracrecall': float(summaryvalues[4]),\n",
    "                           'bracprecision': float(summaryvalues[5]),\n",
    "                           'bracfmeas': float(summaryvalues[6]),\n",
    "                           'completematch': float(summaryvalues[7]),\n",
    "                           'avgcrossing': float(summaryvalues[8]),\n",
    "                           'no_crossing': float(summaryvalues[9]),\n",
    "                           'twoorlesscrossing': float(summaryvalues[10]),\n",
    "                           'taggingaccuracy': float(summaryvalues[11])}\n",
    "\n",
    "        return evaltrees, evalsummary"
   ]
  },
  {
   "cell_type": "markdown",
   "metadata": {},
   "source": [
    "## About evaluation\n",
    "\n",
    "To evaluate performance, metrics are useful. When a correct, or at least shared idea of correctness is available, experimental results can be compared to them. Correct matches are one obvious way to compare, but some sort of a distance can serve as an performance function. In the domain of parsing in computational linguistics, resources such as Penn Treebank provide gold standard trees for comparing results.\n",
    "\n",
    "In this paper the PARSEVAL metrics are used (Black et al, 1991: Manning and Schütze, 1999 pp. 432-437). The PARSEVAL metrics resulted in a 1991 workshop, and have gained standard status thoughtout the 1990s in the research community, although not without critique (e.g. Romanyshyn and Dyomkin, 2014; Manning and Schütze, 1999 especially regarding Penn Treebank) and further developments.\n",
    "\n",
    "PARSEVAL metrics are similarity based, and evaluate gold and candidate parse trees pairwise. The unit of analysis are constituents, ie. labeled subtrees of the parse structure which annotate spans of words in the sentence. From these, *precision*, *recall*, their weighted aggregate *F-measure*, and *cross-bracketing* are calculated. The first three are familiar from information retrieval and other tasks and the *F1* special case of the F-measure, ie. the harmonic mean is used. The metrics measure ratios of true positives in the result set, and true positives of all the positives in the data. In parsing, they capture agreements of the bracket spans between the gold and candidate parses. For instance this `PP` attachment error error.\n",
    "\n",
    "    (S (NP (A a)) (VP(B b)   (PP (C c))) ) gold\n",
    "    (S (NP (A a)) (VP(B b) ) (PP (C c)))   candidate\n",
    "\n",
    "The constituents in the gold parse are `S(0, 3)`, `NP(0, 1)`, `VP(1, 3)` and `PP(2, 3)`, and in the candidate parse `S(0, 3)`, `NP(0, 1)`, `VP(1, 2)` and `PP(2, 3)`. In this example precision is $3/4$ and recall $3/4$. (Farrar, 2010)\n",
    "\n",
    "The fourth PARSEVAL metric mentioned above, cross-bracketing is specific to parsing tasks, and captures errors such as this one (*ibid.*, adapted):\n",
    "\n",
    "    (  (     (        )  )  ) gold\n",
    "    (  (  (        )     )  ) candidate\n",
    "     w1 w2 w3 w4 w5 w6 w7 w8\n",
    "\n",
    "In addition to the span of brackets, one can also look at the correctness of the bracket labels.\n",
    "\n",
    "In this paper, the `EVALB` software is used to calculate the PARSEVAL metrics. It should be noted that the data manipulations and normalizations explained in Black et al (1991) are not performed in this work."
   ]
  },
  {
   "cell_type": "code",
   "execution_count": 13,
   "metadata": {
    "collapsed": false
   },
   "outputs": [],
   "source": [
    "class Experiment:\n",
    "    \"\"\"A high-level abstraction of an PCFG experiment.\"\"\"\n",
    "    def __init__(self, exid, treebank, languagemodel, split, sentencesfile, parser, evaluator, parserargs = None):\n",
    "        self.exid = exid\n",
    "        self.treebank = treebank\n",
    "        self.languagemodel = languagemodel\n",
    "        self.split = split\n",
    "        self.sentencesfile = sentencesfile\n",
    "        self.parser = parser\n",
    "        self.evaluator = evaluator\n",
    "        self.parserargs = parserargs\n",
    "    \n",
    "    def conduct(self, dry = True):\n",
    "        assert os.path.exists(self.languagemodel.grammarfile)\n",
    "        assert os.path.exists(self.languagemodel.lexiconfile)\n",
    "        \n",
    "        # print(self.parser.binpath, self.parserargs, self.languagemodel, self.sentencesfile, 'bpout-' + self.split + '-' + self.exid)\n",
    "        \n",
    "        if not dry:\n",
    "            self.parsesfile = self.parser.parse(self.languagemodel, self.sentencesfile, 'bpout-' + self.split + '-' + self.exid, args = self.parserargs)\n",
    "        else:\n",
    "            self.parsesfile = 'bpout-' + self.split + '-' + self.exid + '_pp'\n",
    "            print('⚠ This is a dry run with cached parses from', self.parsesfile)\n",
    "        self.candidates = [nltk.ParentedTree.fromstring(line) for line in open(self.parsesfile).readlines()]\n",
    "        self.gold = self.treebank.trees(self.split)\n",
    "        self.evaluator.evaluate(self.treebank, self.split, self.parsesfile)\n",
    "        self.results, self.summary = self.evaluator.parseresults('eval')\n",
    "        print('Experiment done')\n",
    "        return self.results, self.summary\n",
    "    \n",
    "    def print_parseeval(self):\n",
    "        print('Summary precision:', self.summary['bracprecision'])\n",
    "        print('Summary recall:', self.summary['bracrecall'])\n",
    "        print('Summary bracketing F1:', self.summary['bracfmeas'])\n",
    "        \n",
    "    def print_meanprecrecall(self):\n",
    "        assert type(self.results) is pd.DataFrame\n",
    "        \n",
    "        print('Mean precision:', round(self.results.precision.mean(), 2), ', σ', round(self.results.precision.std(), 2))\n",
    "        print('Mean recall:', round(self.results.recall.mean(), 2), ', σ', round(self.results.recall.std(), 2))\n",
    "        \n",
    "    def plot_precrecall(self):\n",
    "        assert type(self.results) is pd.DataFrame\n",
    "        \n",
    "        plt.figure(figsize = (13, 4))\n",
    "        plt.subplots_adjust(top = 0.8)\n",
    "        plt.suptitle('Masses of precision and recall (' + self.exid + ', ' + self.split + ')', size = 14)\n",
    "\n",
    "        plt.subplot(131)\n",
    "        plt.title('Mass of precision')\n",
    "        plt.xlabel('Bracket precision')\n",
    "        plt.ylabel('Trees')\n",
    "        plt.ylim(0, 500)\n",
    "        plt.hist(self.results.precision, color = 'lightblue')\n",
    "\n",
    "        plt.subplot(132)\n",
    "        plt.title('Mass of recall')\n",
    "        plt.xlabel('Bracket recall')\n",
    "        plt.ylabel('Trees')\n",
    "        plt.ylim(0, 500)\n",
    "        plt.hist(self.results.recall, color = 'green')\n",
    "\n",
    "        plt.subplot(133)\n",
    "        plt.title('Precision vs recall')\n",
    "\n",
    "        plt.xlabel('Precision')\n",
    "        plt.ylabel('Recall')\n",
    "        plt.xlim(0, 100)\n",
    "        plt.ylim(0, 100)\n",
    "        plt.grid(True)\n",
    "        plt.scatter(self.results.precision, self.results.recall, marker = '.')\n",
    "        \n",
    "    def plot_lencrossbracket(self):\n",
    "        assert type(self.results) is pd.DataFrame\n",
    "        \n",
    "        plt.axis([0, self.results.len.max(), 0, self.results.cross_bracket.max()])\n",
    "        plt.title('Sentence length vs. crossed brackets')\n",
    "        plt.xlabel('Length')\n",
    "        plt.ylabel('Crossed brackets')\n",
    "        plt.grid(True)\n",
    "        plt.scatter(self.results.len, self.results.cross_bracket, marker='.')"
   ]
  },
  {
   "cell_type": "markdown",
   "metadata": {},
   "source": [
    "### Exploration and development\n",
    "\n",
    "To get an idea of the shape of the data, the parser performance, and some of the errors, let's explore without any transformation of the training data. Parsing is conducted on the development dataset."
   ]
  },
  {
   "cell_type": "code",
   "execution_count": 14,
   "metadata": {
    "collapsed": false
   },
   "outputs": [
    {
     "name": "stdout",
     "output_type": "stream",
     "text": [
      "./BitPar/src/bitpar -v -s TOP <__main__.LanguageModel object at 0x7fdff0eab400> sentences-dev bpout-dev-dev1\n",
      "⚠ This is a dry run with cached parses from bpout-dev-dev1_pp\n",
      "./EVALB/evalb  24.trees bpout-dev-dev1_pp >eval\n",
      "Experiment done\n",
      "CPU times: user 6.61 s, sys: 136 ms, total: 6.74 s\n",
      "Wall time: 7.09 s\n"
     ]
    }
   ],
   "source": [
    "binpar = BinPar('./BitPar/src/bitpar')\n",
    "evalb = Evalb(\"./EVALB/evalb\")\n",
    "devexperiment1 = Experiment('dev1', ptb, lm, 'dev', 'sentences-dev', binpar, evalb, parserargs = '-v -s TOP')\n",
    "\n",
    "%time dev1results, dev1summary = devexperiment1.conduct(dry = True)"
   ]
  },
  {
   "cell_type": "markdown",
   "metadata": {},
   "source": [
    "Let's look at the summaries of the key PARSEVAL measures."
   ]
  },
  {
   "cell_type": "code",
   "execution_count": 162,
   "metadata": {
    "collapsed": false,
    "scrolled": true
   },
   "outputs": [
    {
     "name": "stdout",
     "output_type": "stream",
     "text": [
      "Summary precision: 71.73\n",
      "Summary recall: 68.84\n",
      "Summary bracketing F1: 70.25\n"
     ]
    }
   ],
   "source": [
    "devexperiment1.print_parseeval()"
   ]
  },
  {
   "cell_type": "markdown",
   "metadata": {},
   "source": [
    "And how precision and recall are distributed."
   ]
  },
  {
   "cell_type": "code",
   "execution_count": 163,
   "metadata": {
    "collapsed": false
   },
   "outputs": [
    {
     "name": "stdout",
     "output_type": "stream",
     "text": [
      "Mean precision: 74.58 , σ 17.06\n",
      "Mean recall: 71.93 , σ 17.2\n"
     ]
    },
    {
     "data": {
      "image/png": "[encoded data removed]",
      "text/plain": [
       "<matplotlib.figure.Figure at 0x7efd0a04e2e8>"
      ]
     },
     "metadata": {},
     "output_type": "display_data"
    }
   ],
   "source": [
    "devexperiment1.print_meanprecrecall()\n",
    "devexperiment1.plot_precrecall()"
   ]
  },
  {
   "cell_type": "markdown",
   "metadata": {},
   "source": [
    "Let's look at the profile of the crossed brackets error metric. Lower, ie to the left, is better."
   ]
  },
  {
   "cell_type": "code",
   "execution_count": 44,
   "metadata": {
    "collapsed": false
   },
   "outputs": [
    {
     "data": {
      "text/plain": [
       "count    1292.000000\n",
       "mean        3.881579\n",
       "std         4.254572\n",
       "min         0.000000\n",
       "25%         0.000000\n",
       "50%         3.000000\n",
       "75%         6.000000\n",
       "max        26.000000\n",
       "Name: cross_bracket, dtype: float64"
      ]
     },
     "execution_count": 44,
     "metadata": {},
     "output_type": "execute_result"
    },
    {
     "data": {
      "image/png": "[encoded data removed]",
      "text/plain": [
       "<matplotlib.figure.Figure at 0x7fdfd05e2ba8>"
      ]
     },
     "metadata": {},
     "output_type": "display_data"
    }
   ],
   "source": [
    "dev1results.hist(column = 'cross_bracket', color = 'magenta', bins = range(0, int(dev1results.cross_bracket.max())), figsize = (8, 1.5))\n",
    "dev1results.cross_bracket.describe()"
   ]
  },
  {
   "cell_type": "markdown",
   "metadata": {},
   "source": [
    "Let's explore how length of sentences and number of crossed brackets interact. The crossed brackets is an error metric, something we would like to minimize. Intuitively it seems that it would positively correlate with length of the sentence."
   ]
  },
  {
   "cell_type": "code",
   "execution_count": 164,
   "metadata": {
    "collapsed": false,
    "scrolled": true
   },
   "outputs": [
    {
     "name": "stdout",
     "output_type": "stream",
     "text": [
      "Pearson's correlation coefficient 0.66\n"
     ]
    },
    {
     "data": {
      "image/png": "[encoded data removed]",
      "text/plain": [
       "<matplotlib.figure.Figure at 0x7efd09fee2b0>"
      ]
     },
     "metadata": {},
     "output_type": "display_data"
    }
   ],
   "source": [
    "print('Pearson\\'s correlation coefficient', round(scipy.stats.pearsonr(dev1results.len, dev1results.cross_bracket)[0], 2))\n",
    "devexperiment1.plot_lencrossbracket()"
   ]
  },
  {
   "cell_type": "markdown",
   "metadata": {},
   "source": [
    "A few correct parses, with 100% precision and recall."
   ]
  },
  {
   "cell_type": "code",
   "execution_count": 446,
   "metadata": {
    "collapsed": false
   },
   "outputs": [
    {
     "name": "stdout",
     "output_type": "stream",
     "text": [
      "\n",
      "🌲 Tree 968 (dev): `` I look at where deals can get done , '' he says *T*-1 , `` and they 're not getting done '' at current prices .\n",
      "(TOP\n",
      "  (S-1\n",
      "    (`` ``)\n",
      "    (S\n",
      "      (NP-SBJ (PRP I))\n",
      "      (VP\n",
      "        (VBP look)\n",
      "        (PP\n",
      "          (IN at)\n",
      "          (SBAR\n",
      "            (WHADVP (WRB where))\n",
      "            (S\n",
      "              (NP-SBJ (NNS deals))\n",
      "              (VP (MD can) (VP (VB get) (VP (VBN done)))))))))\n",
      "    (PRN\n",
      "      (, ,)\n",
      "      ('' '')\n",
      "      (S (NP-SBJ (PRP he)) (VP (VBZ says) (S (-NONE- *T*-1))))\n",
      "      (, ,)\n",
      "      (`` ``))\n",
      "    (CC and)\n",
      "    (S\n",
      "      (NP-SBJ (PRP they))\n",
      "      (VP\n",
      "        (VBP 're)\n",
      "        (RB not)\n",
      "        (VP\n",
      "          (VBG getting)\n",
      "          (VP\n",
      "            (VBN done)\n",
      "            ('' '')\n",
      "            (PP-CLR (IN at) (NP (JJ current) (NNS prices)))))))\n",
      "    (. .)))\n",
      "\n",
      "🌲 Tree 280 (dev): 2 . `` Service '' should be service .\n",
      "(TOP\n",
      "  (S\n",
      "    (LST (LS 2) (. .))\n",
      "    (`` ``)\n",
      "    (NP-SBJ (NN Service))\n",
      "    ('' '')\n",
      "    (VP (MD should) (VP (VB be) (NP-PRD (NN service))))\n",
      "    (. .)))\n",
      "\n",
      "🌲 Tree 1185 (dev): `` Our doors are open , '' an NBC spokesman says *T*-1 .\n",
      "(TOP\n",
      "  (S\n",
      "    (`` ``)\n",
      "    (S-TPC-1\n",
      "      (NP-SBJ (PRP$ Our) (NNS doors))\n",
      "      (VP (VBP are) (ADJP-PRD (JJ open))))\n",
      "    (, ,)\n",
      "    ('' '')\n",
      "    (NP-SBJ (DT an) (NNP NBC) (NN spokesman))\n",
      "    (VP (VBZ says) (S (-NONE- *T*-1)))\n",
      "    (. .)))\n"
     ]
    }
   ],
   "source": [
    "for i in list(int(i) for i in dev1results[(dev1results.precision == 100) & (dev1results.recall == 100)].sample(3).id):\n",
    "    t = devexperiment1.treebank.trees(devexperiment1.split)[i]\n",
    "    print()\n",
    "    print(\"🌲 Tree\", i, \"(\" + devexperiment1.split + \"):\", \" \".join(t.leaves()))\n",
    "    print(t)"
   ]
  },
  {
   "cell_type": "markdown",
   "metadata": {},
   "source": [
    "Many strategies can be utilized to analyze errors. Data-driven possibilities, given gold, include e.g. building a confusion matrix to inspect sees which grammar rules are mistaken for which, and how the parser overlaps different syntactic structures. One can also see which errors happen higher up the tree or closer to the lexicon, what kinds of subtrees are resilient or vulnerable to which kinds of errors, measure graph translations by using for instance generic graph morphing (e.g. edit distance). To bind to the lexicon, one can see how errors are distributed across common or rare words in an attempt to prioritize analysis of errors which have wider consequences for an upstream task in an NLP pipeline.\n",
    "\n",
    "Here, focus is briefly given to attachment errors. A common parsing error is the *PP attachment error*, when propositional phrases are connected to the wrong place. Hilarity ensues. Let's find some."
   ]
  },
  {
   "cell_type": "code",
   "execution_count": 17,
   "metadata": {
    "collapsed": false,
    "scrolled": false
   },
   "outputs": [
    {
     "name": "stdout",
     "output_type": "stream",
     "text": [
      "Number of attachments for this tag:  1952\n",
      "Correct attachments for this tag: 225\n",
      "\n",
      "id                70.00\n",
      "len               29.00\n",
      "stat               0.00\n",
      "recall            66.67\n",
      "precision         72.73\n",
      "matchedbracket    16.00\n",
      "bracket_gold      24.00\n",
      "bracket_test      22.00\n",
      "cross_bracket      4.00\n",
      "cross_words       29.00\n",
      "correcttags       26.00\n",
      "tagaccuracy       89.66\n",
      "Name: 69, dtype: float64\n",
      "\n",
      "Subtree (PP (IN at) (NP (DT the) (NN firm))) incorrectly attached to (0, 1, 2, 1, 1, 2, 1, 1)\n",
      "\n",
      "🌲  Gold parse tree\n",
      "(TOP\n",
      "  (S\n",
      "    (NP-SBJ (DT The) (JJ first) (NN episode))\n",
      "    (VP\n",
      "      (VBD concluded)\n",
      "      (PP-CLR\n",
      "        (IN with)\n",
      "        (NP\n",
      "          (NP (DT a) (ADJP (RB marvelously) (JJ cute)) (NN scene))\n",
      "          (SBAR\n",
      "            (WHPP-2 (IN in) (WHNP (WDT which)))\n",
      "            (S\n",
      "              (NP-SBJ (DT the) (NN trading-room) (NN crew))\n",
      "              (VP\n",
      "                (VBD minded)\n",
      "                (NP\n",
      "                  (NP (DT a) (NN baby))\n",
      "                  (, ,)\n",
      "                  (NP\n",
      "                    (NP (DT the) (NN casualty))\n",
      "                    (PP\n",
      "                      (IN of)\n",
      "                      (NP\n",
      "                        (NP (DT a) (VBN broken) (NN marriage))\n",
      "                        (PP-LOC (IN at) (NP (DT the) (NN firm)))))))\n",
      "                (PP-LOC (-NONE- *T*-2))))))))\n",
      "    (. .)))\n",
      "None\n",
      "\n",
      "🌲  Candidate parse tree\n",
      "(TOP\n",
      "  (S\n",
      "    (NP-SBJ (DT The) (JJ first) (NN episode))\n",
      "    (VP\n",
      "      (VBD concluded)\n",
      "      (PP-LOC\n",
      "        (IN with)\n",
      "        (NP (DT a) (ADJP (RB marvelously) (JJ cute)) (NN scene)))\n",
      "      (SBAR\n",
      "        (WHPP-1 (IN in) (WHNP (WDT which)))\n",
      "        (S\n",
      "          (NP-SBJ (DT the) (JJ trading-room) (NN crew))\n",
      "          (VP\n",
      "            (VBN minded)\n",
      "            (NP\n",
      "              (NP (DT a) (NN baby))\n",
      "              (, ,)\n",
      "              (NP (DT the) (NN casualty)))\n",
      "            (PP-CLR\n",
      "              (IN of)\n",
      "              (NP\n",
      "                (NP (DT a) (JJ broken) (NN marriage))\n",
      "                (PP (IN at) (NP (DT the) (NN firm)))))\n",
      "            (ADVP-TMP (-NONE- *T*-2)))\n",
      "          (. .))))))\n",
      "None\n"
     ]
    }
   ],
   "source": [
    "def attachment_errors(gold, candidates, tag):\n",
    "    \"\"\"Returns a tuple (pos, subtree, goldtree, candidatetree, index) for all attachment errors of tag.\n",
    "    \n",
    "    In the return value pos is the (incorrect) position of\n",
    "    the attachment in the candidate tree, subtree is the\n",
    "    erroneuosly attached subtree of the candidate, goldtree\n",
    "    is the gold tree, candidatetree is the candidate tree,\n",
    "    and index in the set of input trees.\"\"\"\n",
    "    assert type(gold) is list\n",
    "    assert type(candidates) is list\n",
    "    assert len(gold) == len(candidates)\n",
    "    assert type(tag) is str\n",
    "\n",
    "    for i, gt, ct in zip(enumerate(gold), gold, candidates):\n",
    "        for p in [cta.treeposition() for cta in ct.subtrees() if cta.label() == tag]:\n",
    "            try:\n",
    "                if gt[p] == ct[p]:\n",
    "                    yield None\n",
    "                else:\n",
    "                    yield p, ct[p], gt, ct, i[0]\n",
    "                #yield p, ct[p].parent(), gt, ct\n",
    "            except TypeError:\n",
    "                continue\n",
    "            except ValueError:\n",
    "                yield p, ct[p], gt, ct, i[0]\n",
    "                #yield p, ct[p].parent(), gt, ct\n",
    "            except IndexError:\n",
    "                yield p, ct[p], gt, ct, i[0]\n",
    "\n",
    "attacherrors_pp = [error for error in attachment_errors(devexperiment1.gold, devexperiment1.candidates, 'PP')]\n",
    "print('Number of attachments for this tag: ', len(attacherrors_pp))\n",
    "print('Correct attachments for this tag:', len([v for v in attacherrors_pp if v == None]))\n",
    "print()\n",
    "print(devexperiment1.results.iloc[attacherrors_pp[100][4]])\n",
    "print()\n",
    "print('Subtree', attacherrors_pp[100][1], 'incorrectly attached to', attacherrors_pp[100][0])\n",
    "print()\n",
    "print('🌲  Gold parse tree')\n",
    "print(attacherrors_pp[100][2].pprint())\n",
    "print()\n",
    "print('🌲  Candidate parse tree')\n",
    "print(attacherrors_pp[100][3].pprint())"
   ]
  },
  {
   "cell_type": "markdown",
   "metadata": {},
   "source": [
    "In the above parse the problem is caused by erroneuous tagging of the propositional phrase; the parser assings the tag `PP` to the phrase *at the firm* near the end of the sentence, thought the gold parse has the more specific tag `PP-LOC`. There are also issues higher up the tree, so errors are cascading down from `PP-CLR` node, which the parser attached high, to the `VP`.\n",
    "\n",
    "Let's focus at the cascading problem."
   ]
  },
  {
   "cell_type": "code",
   "execution_count": 494,
   "metadata": {
    "collapsed": false
   },
   "outputs": [
    {
     "name": "stdout",
     "output_type": "stream",
     "text": [
      "Subtree (PP (IN of) (NP (NNP October))) incorrectly attached to (0, 1, 2, 1, 1)\n",
      "\n",
      "id                98.00\n",
      "len               28.00\n",
      "stat               0.00\n",
      "recall            68.42\n",
      "precision         76.47\n",
      "matchedbracket    13.00\n",
      "bracket_gold      19.00\n",
      "bracket_test      17.00\n",
      "cross_bracket      2.00\n",
      "cross_words       28.00\n",
      "correcttags       26.00\n",
      "tagaccuracy       92.86\n",
      "Name: 97, dtype: float64\n",
      "\n",
      "🌲  Gold parse tree\n",
      "(TOP\n",
      "  (S\n",
      "    (NP-SBJ\n",
      "      (DT The)\n",
      "      (CD eight)\n",
      "      (JJ major)\n",
      "      (JJ domestic)\n",
      "      (NN auto)\n",
      "      (NNS makers))\n",
      "    (VP\n",
      "      (VP\n",
      "        (VBD sold)\n",
      "        (NP\n",
      "          (NP\n",
      "            (CD 160,510)\n",
      "            (ADJP (NNP North) (JJ American-made))\n",
      "            (NNS cars)))\n",
      "        (PP-TMP\n",
      "          (IN in)\n",
      "          (NP\n",
      "            (NP (DT the) (JJ first) (CD 10) (NNS days))\n",
      "            (PP (IN of) (NP (NNP October)))))\n",
      "        (, ,))\n",
      "      (NP\n",
      "        (NP (DT a) (ADJP (CD 12.6) (NN %)) (NN drop))\n",
      "        (PP (IN from) (ADVP (NP (DT a) (NN year)) (RBR earlier)))))\n",
      "    (. .)))\n",
      "None\n",
      "\n",
      "🌲  Candidate parse tree\n",
      "(TOP\n",
      "  (S\n",
      "    (NP-SBJ\n",
      "      (DT The)\n",
      "      (CD eight)\n",
      "      (JJ major)\n",
      "      (NML (JJ domestic) (NN auto))\n",
      "      (NNS makers))\n",
      "    (VP\n",
      "      (VBN sold)\n",
      "      (NP (CD 160,510) (JJ North) (JJ American-made) (NNS cars))\n",
      "      (PP\n",
      "        (IN in)\n",
      "        (NP\n",
      "          (NP (DT the) (JJ first) (CD 10) (NNS days))\n",
      "          (PP (IN of) (NP (NNP October)))))\n",
      "      (, ,)\n",
      "      (ADVP-TMP\n",
      "        (NP\n",
      "          (NP (DT a) (ADJP (CD 12.6) (NN %)) (NN drop))\n",
      "          (PP (IN from) (NP (DT a) (NN year))))\n",
      "        (RBR earlier)))\n",
      "    (. .)))\n",
      "None\n"
     ]
    }
   ],
   "source": [
    "print('Subtree', attacherrors_pp[150][1], 'incorrectly attached to', attacherrors_pp[150][0])\n",
    "print()\n",
    "print(devexperiment1.results.iloc[attacherrors_pp[150][4]])\n",
    "print()\n",
    "print('🌲  Gold parse tree')\n",
    "print(attacherrors_pp[150][2].pprint())\n",
    "print()\n",
    "print('🌲  Candidate parse tree')\n",
    "print(attacherrors_pp[150][3].pprint())"
   ]
  },
  {
   "cell_type": "markdown",
   "metadata": {},
   "source": [
    "Here, the propositional phrase *of October* is attached incorrectly, because higher up the tree, in the phrase *The eight major domestic auto makers* a different subparse is produced, thereby misaligning all the further indexes of the tree. This cascading of errors is a recognized problem with the PARSEVAL metrics (Romanyshyn and Vsevolod, 2014)."
   ]
  },
  {
   "cell_type": "markdown",
   "metadata": {},
   "source": [
    "Let's look at other attachment errors. Coordination attachment errors, ie. misplacing of *and*, *or*, *but* etc. can significantly alter the meaning of the sentences. In the development corpus, the following ratio of coordination attachments are correct."
   ]
  },
  {
   "cell_type": "code",
   "execution_count": 444,
   "metadata": {
    "collapsed": false
   },
   "outputs": [
    {
     "data": {
      "text/plain": [
       "([<matplotlib.patches.Wedge at 0x7f12869d8860>,\n",
       "  <matplotlib.patches.Wedge at 0x7f12869f4550>],\n",
       " [<matplotlib.text.Text at 0x7f12869d8fd0>,\n",
       "  <matplotlib.text.Text at 0x7f12869f4d30>])"
      ]
     },
     "execution_count": 444,
     "metadata": {},
     "output_type": "execute_result"
    },
    {
     "data": {
      "image/png": "[encoded data removed]",
      "text/plain": [
       "<matplotlib.figure.Figure at 0x7f128bb016d8>"
      ]
     },
     "metadata": {},
     "output_type": "display_data"
    }
   ],
   "source": [
    "attacherrors_cc = [error for error in attachment_errors(devexperiment1.gold, devexperiment1.candidates, 'CC')]\n",
    "plt.axes(aspect = 1)\n",
    "plt.title('Coordinate (CC) attachments (n=' + str(len(attacherrors_cc)) + ')', size = 14)\n",
    "plt.pie([len([a for a in attacherrors_cc if a != None]), len([a for a in attacherrors_cc if a == None])], labels = ['errors ' + str(len([a for a in attacherrors_cc if a != None])), 'correct ' + str(len([a for a in attacherrors_cc if a == None]))], colors = ['red', 'green'])"
   ]
  },
  {
   "cell_type": "markdown",
   "metadata": {},
   "source": [
    "The function `attachment_errors` above is generic enough to quite trivially quantify and visualize distribution of the attachment errors in the data in question. This would guide further analysis and development work."
   ]
  },
  {
   "cell_type": "markdown",
   "metadata": {},
   "source": [
    "It should be noted that the above exploration of attachment errors is based on global positions of the subtree labels (e.g. `PP` and `CC`), and errors are measured from the root of the three to the attached subtree in question. This is quite a harsh way to define errors, and suffers from cascading.\n",
    "\n",
    "Another, more forgiving measure of attachments errors would traverse upwards from the attaching node, or alternatively exploring sideways to siblings and other local context. This would perhaps be even too forgiving, and would focus around the particular occurrences of errors, and not at the parse tree, which is what we want to try to get right. The `nltk.ParentedTree` class would make such a traversing setup quite easy to implement, but it is not done in this paper."
   ]
  },
  {
   "cell_type": "markdown",
   "metadata": {},
   "source": [
    "### Development: Plugging the grammar\n",
    "\n",
    "Two transformations are suggested to the grammar: *local transformation* and *lexicalization*. Local transformations annotate nodes with a head-child, which is a selected child node. Various sets of rules for selecting has been proposed, perhaps most famously in Collins (1999; also 2003, see also Chiang and Bikel 2002). Transformations such as these are linguistically motivated, and combine data-driven learning and analytical rules.\n",
    "\n",
    "The following rules for selecting the head-child are from Collins (1999)."
   ]
  },
  {
   "cell_type": "code",
   "execution_count": 18,
   "metadata": {
    "collapsed": false
   },
   "outputs": [],
   "source": [
    "headchildrules = {'ADJP': ('l', ['NNS', 'QP', 'NN', '$', 'ADVP', 'JJ', 'VBN', 'VBC', 'ADJP', 'JJR', 'NP', 'JJS', 'DT', 'FW', 'RBB', 'SBAR', 'RB']),\n",
    "                  'ADVP': ('r', ['RB', 'RBR', 'RBS', 'FW', 'ADVP', 'TO', 'CD', 'JJR', 'JJ', 'IN','NP', 'JJS', 'NN']),\n",
    "                  'CONJP': ('r', ['CC', 'RB', 'IN']),\n",
    "                  'FRAG': ('r', []),\n",
    "                  'INTJ': ('l', []),\n",
    "                  'LST': ('r', ['LS', ':']),\n",
    "                  'NAC': ('l', ['NN', 'NNS', 'NNP', 'NNPS', 'NP', 'NAC', 'EX', '$', 'CD', 'QP', 'PRP', 'VBG', 'JJ', 'JJS', 'JJR', 'ADJP', 'FW']),\n",
    "                  'PP': ('r', ['IN', 'TO', 'VBG', 'VBN', 'RP', 'FW']),\n",
    "                  'PRN': ('l', []),\n",
    "                  'PRT': ('r', ['RP']),\n",
    "                  'QP': ('l', ['$', 'IN', 'NNS', 'NN', 'JJ', 'RB', 'DT', 'CD', 'NCD', 'QP', 'JJR', 'JJS']),\n",
    "                  'RRC': ('r', ['VP', 'NP', 'ADVP', 'ADJP', 'PP']),\n",
    "                  'S': ('l', ['TO', 'IN', 'VP', 'S', 'SBAR', 'ADJP', 'UCP', 'NP']),\n",
    "                  'SBAR': ('l', ['WHNP', 'WHPP', 'WHADVP', 'WHADJP', 'IN', 'DT', 'S', 'SQ', 'SINV', 'SBAR', 'FRAG']),\n",
    "                  'SBARQ': ('l', ['SQ', 'S', 'SINV', 'SBARQ', 'FRAG']),\n",
    "                  'SINV': ('l', ['VBZ', 'VBD', 'VBP', 'VB', 'MD', 'VP', 'S', 'SINV', 'ADJP', 'NP']),\n",
    "                  'SQ': ('l', ['VBZ', 'VBD', 'VBP', 'VB', 'MD', 'VP', 'SQ']),\n",
    "                  'UCP': ('r', []),\n",
    "                  'VP': ('l', ['TO', 'VBD', 'VBN', 'MD', 'VBZ', 'VB', 'VBG', 'VBP', 'VP', 'ADJP', 'NN', 'NNS', 'NP']),\n",
    "                  'WHADJP': ('l', ['CC', 'WRB', 'JJ', 'ADJP']),\n",
    "                  'WHADVP': ('r', ['CC', 'WRB']),\n",
    "                  'WHNP': ('l', ['WDT', 'WP', 'WP$', 'WHADJP', 'WHPP', 'WHNP']),\n",
    "                  'WHPP': ('r', ['IN', 'TO', 'FW'])\n",
    "                 }"
   ]
  },
  {
   "cell_type": "code",
   "execution_count": 19,
   "metadata": {
    "collapsed": false
   },
   "outputs": [],
   "source": [
    "def transformlocal(tree, localtransformations):\n",
    "    \"\"\"Does local transformation of a tree. Note: in-place.\"\"\"\n",
    "    # newtree = tree.copy(deep = True)\n",
    "    # for child in [s for s in newtree.subtrees()]:\n",
    "    for child in [s for s in tree.subtrees()]:\n",
    "        try:\n",
    "            d, trans = localtransformations[child.label()]\n",
    "            if d == 'l':\n",
    "                compare = min\n",
    "            else:\n",
    "                compare = max\n",
    "            child.set_label(\"_\".join((child.label(), compare(child, key = lambda l: trans.index(l.label())).label())))\n",
    "        except KeyError:\n",
    "            continue\n",
    "        except ValueError:\n",
    "            continue\n",
    "    #return newtree"
   ]
  },
  {
   "cell_type": "markdown",
   "metadata": {},
   "source": [
    "A new treebank is defined and loaded for the grammar transformations."
   ]
  },
  {
   "cell_type": "code",
   "execution_count": 20,
   "metadata": {
    "collapsed": false
   },
   "outputs": [
    {
     "name": "stdout",
     "output_type": "stream",
     "text": [
      "CPU times: user 41.8 s, sys: 1.33 s, total: 43.1 s\n",
      "Wall time: 47.9 s\n",
      "Number of trees with transformations in training 31887 out of 37977\n"
     ]
    }
   ],
   "source": [
    "del(ptb_loctrans)\n",
    "%time ptb_loctrans = Treebank(treedatafile)\n",
    "ptb_loctrans.setsplits(pennsplits)\n",
    "\n",
    "for tree in ptb_loctrans.trees('training'):\n",
    "    transformlocal(tree, headchildrules)\n",
    "\n",
    "print('Number of trees with transformations in training', sum([ot != tt for ot, tt in zip(ptb_loctrans.trees('training'), ptb.trees('training'))]), 'out of', len(ptb_loctrans.trees('training')))"
   ]
  },
  {
   "cell_type": "code",
   "execution_count": 21,
   "metadata": {
    "collapsed": false
   },
   "outputs": [
    {
     "name": "stdout",
     "output_type": "stream",
     "text": [
      "CPU times: user 59.4 s, sys: 2.54 s, total: 1min 1s\n",
      "Wall time: 1min 21s\n",
      "Number of training grammar rules written 34560\n"
     ]
    }
   ],
   "source": [
    "lm_loctrans = LanguageModel(ptb_loctrans, grammarfile = 'grammar-train-localtrans', lexiconfile = 'lexicon-train-localtrans')\n",
    "%time lm_loctrans.train()\n",
    "\n",
    "with open(lm_loctrans.grammarfile) as fd:\n",
    "    print('Number of training grammar rules written', len(fd.readlines()))"
   ]
  },
  {
   "cell_type": "code",
   "execution_count": 22,
   "metadata": {
    "collapsed": false
   },
   "outputs": [
    {
     "name": "stdout",
     "output_type": "stream",
     "text": [
      "./BitPar/src/bitpar -v -s TOP <__main__.LanguageModel object at 0x7fdff0006cc0> sentences-dev bpout-dev-dev2\n",
      "⚠ This is a dry run with cached parses from bpout-dev-dev2_pp\n",
      "./EVALB/evalb  24.trees bpout-dev-dev2_pp >eval\n",
      "Experiment done\n",
      "CPU times: user 11.7 s, sys: 9.98 s, total: 21.7 s\n",
      "Wall time: 1min 5s\n"
     ]
    }
   ],
   "source": [
    "devexperiment2 = Experiment('dev2', ptb_loctrans, lm_loctrans, 'dev', 'sentences-dev', binpar, evalb, parserargs = '-v -s TOP')\n",
    "\n",
    "%time dev2results, dev2summary = devexperiment2.conduct(dry = True)"
   ]
  },
  {
   "cell_type": "markdown",
   "metadata": {},
   "source": [
    "Let's take a look at the results. A quick cleaning of the tags of the local transformations from the the parser output is necessary, for evaluation."
   ]
  },
  {
   "cell_type": "code",
   "execution_count": 23,
   "metadata": {
    "collapsed": false,
    "scrolled": true
   },
   "outputs": [],
   "source": [
    "!sed 's/_[A-Z]*//g' bpout-dev-dev2_pp >bpout-dev-dev2_pp-clean"
   ]
  },
  {
   "cell_type": "markdown",
   "metadata": {},
   "source": [
    "After the cleaning, the results are reloaded for evaluation. I apologize for the unelegance of this manipulation."
   ]
  },
  {
   "cell_type": "code",
   "execution_count": 38,
   "metadata": {
    "collapsed": false
   },
   "outputs": [
    {
     "name": "stdout",
     "output_type": "stream",
     "text": [
      "./EVALB/evalb  24.trees bpout-dev-dev2_pp-clean >eval\n"
     ]
    }
   ],
   "source": [
    "devexperiment2.evaluator.evaluate(devexperiment2.treebank, devexperiment2.split, 'bpout-dev-dev2_pp-clean')\n",
    "devexperiment2.results, devexperiment2.summary = devexperiment2.evaluator.parseresults('eval')"
   ]
  },
  {
   "cell_type": "markdown",
   "metadata": {},
   "source": [
    "Let's inspect the PARSEVAL metrics for this experiment."
   ]
  },
  {
   "cell_type": "code",
   "execution_count": 46,
   "metadata": {
    "collapsed": false,
    "scrolled": true
   },
   "outputs": [
    {
     "name": "stdout",
     "output_type": "stream",
     "text": [
      "Summary precision: 72.47\n",
      "Summary recall: 70.52\n",
      "Summary bracketing F1: 71.48\n"
     ]
    }
   ],
   "source": [
    "devexperiment2.print_parseeval()"
   ]
  },
  {
   "cell_type": "code",
   "execution_count": 47,
   "metadata": {
    "collapsed": false,
    "scrolled": true
   },
   "outputs": [
    {
     "name": "stdout",
     "output_type": "stream",
     "text": [
      "Mean precision: 75.32 , σ 16.97\n",
      "Mean recall: 73.58 , σ 17.27\n"
     ]
    },
    {
     "data": {
      "image/png": "[encoded data removed]",
      "text/plain": [
       "<matplotlib.figure.Figure at 0x7fdfd20b8470>"
      ]
     },
     "metadata": {},
     "output_type": "display_data"
    }
   ],
   "source": [
    "devexperiment2.print_meanprecrecall()\n",
    "devexperiment2.plot_precrecall()"
   ]
  },
  {
   "cell_type": "code",
   "execution_count": 43,
   "metadata": {
    "collapsed": false
   },
   "outputs": [
    {
     "data": {
      "text/plain": [
       "count    1292.000000\n",
       "mean        3.730650\n",
       "std         4.308249\n",
       "min         0.000000\n",
       "25%         0.000000\n",
       "50%         2.000000\n",
       "75%         6.000000\n",
       "max        31.000000\n",
       "Name: cross_bracket, dtype: float64"
      ]
     },
     "execution_count": 43,
     "metadata": {},
     "output_type": "execute_result"
    },
    {
     "data": {
      "image/png": "[encoded data removed]",
      "text/plain": [
       "<matplotlib.figure.Figure at 0x7fdfd2271710>"
      ]
     },
     "metadata": {},
     "output_type": "display_data"
    }
   ],
   "source": [
    "devexperiment2.results.hist(column = 'cross_bracket', color = 'magenta', bins = range(0, int(dev1results.cross_bracket.max())), figsize = (8, 1.5))\n",
    "devexperiment2.results.cross_bracket.describe()"
   ]
  },
  {
   "cell_type": "markdown",
   "metadata": {},
   "source": [
    "Are these changes statistically significant, or due to mere chance? Assuming both variables are normally distributed (assumptions which should be checked), and have similar variance, we can compare the two sets of samples.\n",
    "\n",
    "Testing for the 0.95 confidence level, we calculate the $p$ -value. The null hypothesis is that the distributions are not different from one another."
   ]
  },
  {
   "cell_type": "code",
   "execution_count": 137,
   "metadata": {
    "collapsed": false
   },
   "outputs": [
    {
     "name": "stdout",
     "output_type": "stream",
     "text": [
      "Precision -1.107 , p 0.269 \n",
      "Recall -2.43 , p 0.015 *\n",
      "Cross_Bracket 0.896 , p 0.37 \n"
     ]
    }
   ],
   "source": [
    "for metric in ['precision', 'recall', 'cross_bracket']:\n",
    "    s, p = scipy.stats.ttest_ind(devexperiment1.results[metric], devexperiment2.results[metric])\n",
    "    print(metric.title(), round(s, 3), ', p', round(p, 3), '*' if p < 0.05 else '')"
   ]
  },
  {
   "cell_type": "markdown",
   "metadata": {},
   "source": [
    "Of these, recall is statistically significant, in favour of the second variable, ie. the experimental condition. Therefore we can conclude, that the local transformations as implemented here increase the recall of the correct parses. The experimental condition did not improve precision, or the crossing bracket error metric."
   ]
  },
  {
   "cell_type": "markdown",
   "metadata": {},
   "source": [
    "## Experiments\n",
    "\n",
    "Now, let's take out the test data, and run the experiments."
   ]
  },
  {
   "cell_type": "code",
   "execution_count": null,
   "metadata": {
    "collapsed": true
   },
   "outputs": [],
   "source": [
    "ptb.write_sentences('sentences-test', 'test')"
   ]
  },
  {
   "cell_type": "markdown",
   "metadata": {},
   "source": [
    "### Experiment 1: Baseline\n",
    "\n",
    "The baseline experiment, without experimental condition"
   ]
  },
  {
   "cell_type": "code",
   "execution_count": null,
   "metadata": {
    "collapsed": false,
    "scrolled": true
   },
   "outputs": [],
   "source": [
    "experiment1 = Experiment('ex1', ptb, lm, 'test', 'sentences-test', binpar, evalb, parserargs = '-v -s TOP')\n",
    "\n",
    "%time ex1results, ex1summary = experiment1.conduct(dry = False)"
   ]
  },
  {
   "cell_type": "code",
   "execution_count": null,
   "metadata": {
    "collapsed": false,
    "scrolled": true
   },
   "outputs": [],
   "source": [
    "experiment1.print_parseeval()"
   ]
  },
  {
   "cell_type": "code",
   "execution_count": null,
   "metadata": {
    "collapsed": false,
    "scrolled": true
   },
   "outputs": [],
   "source": [
    "experiment1.print_meanprecrecall()\n",
    "experiment1.plot_precrecall()"
   ]
  },
  {
   "cell_type": "code",
   "execution_count": null,
   "metadata": {
    "collapsed": false,
    "scrolled": true
   },
   "outputs": [],
   "source": [
    "experiment1.results.hist(column = 'cross_bracket', color = 'magenta', bins = range(0, int(dev1results.cross_bracket.max())), figsize = (8, 1.5))\n",
    "experiment1.results.cross_bracket.describe()"
   ]
  },
  {
   "cell_type": "markdown",
   "metadata": {},
   "source": [
    "### Experiment 2: Local transformations\n",
    "\n",
    "The first experimental condition, with local transformations."
   ]
  },
  {
   "cell_type": "code",
   "execution_count": null,
   "metadata": {
    "collapsed": false
   },
   "outputs": [],
   "source": [
    "experiment2 = Experiment('ex2', ptb_loctrans, lm_loctrans, 'test', 'sentences-test', binpar, evalb, parserargs = '-v -s TOP')\n",
    "\n",
    "%time ex2results, ex2summary = experiment2.conduct(dry = True)"
   ]
  },
  {
   "cell_type": "code",
   "execution_count": null,
   "metadata": {
    "collapsed": false,
    "scrolled": true
   },
   "outputs": [],
   "source": [
    "experiment2.print_parseeval()"
   ]
  },
  {
   "cell_type": "code",
   "execution_count": null,
   "metadata": {
    "collapsed": false
   },
   "outputs": [],
   "source": [
    "experiment2.print_meanprecrecall()\n",
    "experiment2.plot_precrecall()"
   ]
  },
  {
   "cell_type": "code",
   "execution_count": null,
   "metadata": {
    "collapsed": false
   },
   "outputs": [],
   "source": [
    "experiment2.results.hist(column = 'cross_bracket', color = 'magenta', bins = range(0, int(dev1results.cross_bracket.max())), figsize = (8, 1.5))\n",
    "experiment2.results.cross_bracket.describe()"
   ]
  },
  {
   "cell_type": "markdown",
   "metadata": {},
   "source": [
    "### Experiment 3: Lexicalization\n",
    "\n",
    "The second experimental condition, with lexicalization."
   ]
  },
  {
   "cell_type": "code",
   "execution_count": null,
   "metadata": {
    "collapsed": true
   },
   "outputs": [],
   "source": [
    "experiment3 = Experiment('ex3', ptb, lm_lex, 'test', 'sentences-test', binpar, evalb, parserargs = '-v -s TOP')\n",
    "\n",
    "%time ex3results, ex3summary = experiment3.conduct(dry = True)"
   ]
  },
  {
   "cell_type": "code",
   "execution_count": null,
   "metadata": {
    "collapsed": true
   },
   "outputs": [],
   "source": [
    "experiment3.print_parseeval()"
   ]
  },
  {
   "cell_type": "code",
   "execution_count": null,
   "metadata": {
    "collapsed": true
   },
   "outputs": [],
   "source": [
    "experiment3.print_meanprecrecall()\n",
    "experiment3.plot_precrecall()"
   ]
  },
  {
   "cell_type": "code",
   "execution_count": null,
   "metadata": {
    "collapsed": true
   },
   "outputs": [],
   "source": [
    "experiment3.results.hist(column = 'cross_bracket', color = 'magenta', bins = range(0, int(dev1results.cross_bracket.max())), figsize = (8, 1.5))\n",
    "experiment3.results.cross_bracket.describe()"
   ]
  },
  {
   "cell_type": "markdown",
   "metadata": {},
   "source": [
    "## Conclusions and reflections"
   ]
  },
  {
   "cell_type": "markdown",
   "metadata": {},
   "source": [
    "Due to the lack of RAM memory (2GB), the three experiments were not run. Their skeletons are provided above, as well as development experiments for the baseline unmodified data, and the experimental condition of the local transformations. The above code is presented to follow the analytical and engineering thinking of the author. With the constructed scaffolding, running the experiments should be a matter of applying CPU time, and retrieving the results.\n",
    "\n",
    "Based on the development experiment 2 `devexperiment2` on the development training set with local transformations, the transformation achieves sligthly better results than the baseline `devexperiment1`. Whether they are statistically significant, and how, was studied only briefly. The few percents of increase are however achieved on the same data (the development test set) in this case, and the probabilities of the rules have been learned from the data for the PCFG parser, ie. from actual newswire. Inspecting the plots of recall and precision mass distribution, they seem to have stacked a little tighter to the right, towards better scores.\n",
    "\n",
    "Further developments could go towards several domains of error classification, visualization of parse trees. This would preferably be linguistically motivated. Here the data is from newswire, and other domains could be interesting. There is reason to be suspicious of the Collins' head-finding rules and their generalizability, though this has been addressed in the literature. From software engineering points of view, further development would benefit the object model constructed here. The design principle has been in developing towards . Also, the object model is poorly documented in code and docstrings should be provided. Memory profiling could help solve the issue of not being able to store several copies of `nltk.ParentedTree` object representations of the whole Penn Treebank in memory, in instances of the class `Treebank`. At some parts of this work functional progamming paradigm has been insisted to avoid cluttering the environment, and in some cases this has significant performance implications. Investing in visualization could help understandability and user experience of this work, as well has help in analysis. Versioning would be a useful idea too, and employing some sort of a more rigorous persistency layer, perhaps a CRUD model.\n",
    "\n",
    "Working within a Jupyter Notebook has it's own limitations from software development point of view, but has proven to be a very fruitful way to compose analytical reports such as this, and the hope is that this paper, and literal programming in general, helps convey thinking processes from the author(s) to the reader(s).\n",
    "\n",
    "From pedagogical perspective, this has been a very valuable project. Instead of low-level manipulation and parsing of the bracket storage format, the focus has been towards an object-oriented representation of experimental research (I implemented a basic CKY recognizer earlier). Guided by my interests and goals in my studies, the emphasis here has been on applying computation and modelling, and not so much on linguistics. The given task is also technical and artificial in nature and aims at better PARSEVAL metrics, and is not contextualized in an NLP pipeline, framed in a real or a fictional wider scenario, or motivated by for instance linguistic or cognitive theory. Engaging more with literature would always be a good idea, as well as with other peers (researchers or students). A teamwork would perhaps been a preferable mode of doing this. All-in-all I am quite happy with the project."
   ]
  },
  {
   "cell_type": "markdown",
   "metadata": {},
   "source": [
    "## References\n",
    "\n",
    "* Bird, Steven; Loper, Edward and Klein, Ewan, _Natural Language Processing with Python_. O’Reilly Media Inc. (2009) ([website](http://www.nltk.org))\n",
    "\n",
    "* Black, Ezra. et al.: _A Procedure for Quantitatively Comparing the Syntactic Coverage of English Grammars_. HLT '91 Proceedings of the workshop on Speech and Natural Language Pages 306-311 (1991)\n",
    "\n",
    "* Charniak, Eugene: _A Maximum-Entropy-Inspired Parser_. Proceedings of NAACL 2000 (2000)\n",
    "\n",
    "* Chiang, Davig; Bikel, Daniel: _Recovering latent information in treebanks_. COLING (2002)\n",
    "\n",
    "* Collings, Michael: _Head-Driven Statistical Models for Natural Language Parsing_. Computational Linguistics, vol 29, number 4. (2003)\n",
    "\n",
    "* Farrar, Scott: _EVALB, Improving CKY Parsing, Hw3_. Lecture notes from CLMA, University of Washington (2010)\n",
    "\n",
    "* Jurafsky, Dan; Martin, James: _Speech and Language Processing_. Prentice Hall. (1999)\n",
    "\n",
    "* Manning, Chris and Schütze, Hinrich: _Foundations of Statistical Natural Language Processing_, MIT Press (1999)\n",
    "\n",
    "* Ringger, Eric; Moore, Robert; Vanderwende, Lucy; Suzuki, Hisami; Charniak, Eugene: _Using the Penn Treebank to Evaluate Non-Treebank Parsers_. European Language Resources Association (2004)\n",
    "\n",
    "* Romanyshyn, Mariana; Dyomkin, Vsevolod: _The Dirty Little Secret of Constituency Parser Evaluation_. Grammarly blog (2014). ([online](http://tech.grammarly.com/blog/posts/The-Dirty-Little-Secret-of-Constituency-Parser-Evaluation.html#sthash.fMjTjuh6.dpuf))\n",
    "\n",
    "* Schmid, Helmut: _Efficient Parsing of Highly Ambiguous Context-Free Grammars with Bit Vectors_, Proceedings of the 20th International Conference on Computational Linguistics (COLING 2004), Geneva, Switzerland. ([pdf](http://www.cis.uni-muenchen.de/~schmid/papers/BitPar.pdf))\n",
    "\n",
    "* Sipser, Michael: _Introduction to the Theory of Computation_, 3rd international edition. Cengage learning (2013)"
   ]
  }
 ],
 "metadata": {
  "kernelspec": {
   "display_name": "Python 3",
   "language": "python",
   "name": "python3"
  },
  "language_info": {
   "codemirror_mode": {
    "name": "ipython",
    "version": 3
   },
   "file_extension": ".py",
   "mimetype": "text/x-python",
   "name": "python",
   "nbconvert_exporter": "python",
   "pygments_lexer": "ipython3",
   "version": "3.5.1+"
  }
 },
 "nbformat": 4,
 "nbformat_minor": 0
}
